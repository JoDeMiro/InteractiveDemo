{
  "nbformat": 4,
  "nbformat_minor": 0,
  "metadata": {
    "colab": {
      "name": "Jupyter Notebook Interactive Demo 1.ipynb",
      "provenance": [],
      "collapsed_sections": [],
      "authorship_tag": "ABX9TyOqIjFiXmoPvxtV2oCwW7/b",
      "include_colab_link": true
    },
    "kernelspec": {
      "name": "python3",
      "display_name": "Python 3"
    },
    "language_info": {
      "name": "python"
    },
    "widgets": {
      "application/vnd.jupyter.widget-state+json": {
        "f0cd4b954ccc4776b80c44c9fd7709ba": {
          "model_module": "@jupyter-widgets/controls",
          "model_name": "VBoxModel",
          "state": {
            "_view_name": "VBoxView",
            "_dom_classes": [
              "widget-interact"
            ],
            "_model_name": "VBoxModel",
            "_view_module": "@jupyter-widgets/controls",
            "_model_module_version": "1.5.0",
            "_view_count": null,
            "_view_module_version": "1.5.0",
            "box_style": "",
            "layout": "IPY_MODEL_620e86904e8b4f8191ea214bb3a2f5d7",
            "_model_module": "@jupyter-widgets/controls",
            "children": [
              "IPY_MODEL_ac3150012e7546f7b3d6b1d69c0ec8ae",
              "IPY_MODEL_08f896de29e248f18a2531a80c8655b8",
              "IPY_MODEL_156be4ab42d140498bc535c5ce43ed8b",
              "IPY_MODEL_a82c1630e15844d797b2136bfdafda5f",
              "IPY_MODEL_e09fe5abf7674621b28eff1dd5bcc0b3",
              "IPY_MODEL_1e4d91b6bf0144d79a3538b22279fbb4"
            ]
          }
        },
        "620e86904e8b4f8191ea214bb3a2f5d7": {
          "model_module": "@jupyter-widgets/base",
          "model_name": "LayoutModel",
          "state": {
            "_view_name": "LayoutView",
            "grid_template_rows": null,
            "right": null,
            "justify_content": null,
            "_view_module": "@jupyter-widgets/base",
            "overflow": null,
            "_model_module_version": "1.2.0",
            "_view_count": null,
            "flex_flow": null,
            "width": null,
            "min_width": null,
            "border": null,
            "align_items": null,
            "bottom": null,
            "_model_module": "@jupyter-widgets/base",
            "top": null,
            "grid_column": null,
            "overflow_y": null,
            "overflow_x": null,
            "grid_auto_flow": null,
            "grid_area": null,
            "grid_template_columns": null,
            "flex": null,
            "_model_name": "LayoutModel",
            "justify_items": null,
            "grid_row": null,
            "max_height": null,
            "align_content": null,
            "visibility": null,
            "align_self": null,
            "height": null,
            "min_height": null,
            "padding": null,
            "grid_auto_rows": null,
            "grid_gap": null,
            "max_width": null,
            "order": null,
            "_view_module_version": "1.2.0",
            "grid_template_areas": null,
            "object_position": null,
            "object_fit": null,
            "grid_auto_columns": null,
            "margin": null,
            "display": null,
            "left": null
          }
        },
        "ac3150012e7546f7b3d6b1d69c0ec8ae": {
          "model_module": "@jupyter-widgets/controls",
          "model_name": "DropdownModel",
          "state": {
            "_options_labels": [
              "1",
              "2",
              "3",
              "4",
              "5"
            ],
            "_view_name": "DropdownView",
            "style": "IPY_MODEL_ba69437862d041388214e275c0c3c7f8",
            "_dom_classes": [],
            "description": "amplitude",
            "_model_name": "DropdownModel",
            "index": 0,
            "_view_module": "@jupyter-widgets/controls",
            "_model_module_version": "1.5.0",
            "_view_count": null,
            "disabled": false,
            "_view_module_version": "1.5.0",
            "description_tooltip": null,
            "_model_module": "@jupyter-widgets/controls",
            "layout": "IPY_MODEL_4b215627507844b7bd923ba1ae2aceca"
          }
        },
        "08f896de29e248f18a2531a80c8655b8": {
          "model_module": "@jupyter-widgets/controls",
          "model_name": "FloatSliderModel",
          "state": {
            "_view_name": "FloatSliderView",
            "style": "IPY_MODEL_8a42869ae5d94e8a9289cdb9a19174ac",
            "_dom_classes": [],
            "description": "ideal_mu",
            "step": 0.1,
            "_model_name": "FloatSliderModel",
            "orientation": "horizontal",
            "max": 5,
            "_view_module": "@jupyter-widgets/controls",
            "_model_module_version": "1.5.0",
            "value": 0,
            "_view_count": null,
            "disabled": false,
            "_view_module_version": "1.5.0",
            "min": -5,
            "continuous_update": true,
            "readout_format": ".2f",
            "description_tooltip": null,
            "readout": true,
            "_model_module": "@jupyter-widgets/controls",
            "layout": "IPY_MODEL_e0229ed165664fbdb758da3398bd1c23"
          }
        },
        "156be4ab42d140498bc535c5ce43ed8b": {
          "model_module": "@jupyter-widgets/controls",
          "model_name": "FloatSliderModel",
          "state": {
            "_view_name": "FloatSliderView",
            "style": "IPY_MODEL_77640df44ea84baabffebde05438fba2",
            "_dom_classes": [],
            "description": "ideal_sigma",
            "step": 0.1,
            "_model_name": "FloatSliderModel",
            "orientation": "horizontal",
            "max": 2,
            "_view_module": "@jupyter-widgets/controls",
            "_model_module_version": "1.5.0",
            "value": 1,
            "_view_count": null,
            "disabled": false,
            "_view_module_version": "1.5.0",
            "min": 0,
            "continuous_update": true,
            "readout_format": ".2f",
            "description_tooltip": null,
            "readout": true,
            "_model_module": "@jupyter-widgets/controls",
            "layout": "IPY_MODEL_ddd12eefc62b4d7bb6b6484b71aefca8"
          }
        },
        "a82c1630e15844d797b2136bfdafda5f": {
          "model_module": "@jupyter-widgets/controls",
          "model_name": "FloatSliderModel",
          "state": {
            "_view_name": "FloatSliderView",
            "style": "IPY_MODEL_2cd3e733cda54477986fb8b213c442f7",
            "_dom_classes": [],
            "description": "noise_sd",
            "step": 0.01,
            "_model_name": "FloatSliderModel",
            "orientation": "horizontal",
            "max": 1,
            "_view_module": "@jupyter-widgets/controls",
            "_model_module_version": "1.5.0",
            "value": 0.12,
            "_view_count": null,
            "disabled": false,
            "_view_module_version": "1.5.0",
            "min": 0,
            "continuous_update": true,
            "readout_format": ".2f",
            "description_tooltip": null,
            "readout": true,
            "_model_module": "@jupyter-widgets/controls",
            "layout": "IPY_MODEL_84628fb06b9b4555925fe78067363f3b"
          }
        },
        "e09fe5abf7674621b28eff1dd5bcc0b3": {
          "model_module": "@jupyter-widgets/controls",
          "model_name": "FloatSliderModel",
          "state": {
            "_view_name": "FloatSliderView",
            "style": "IPY_MODEL_2454ba51d2d24cc1a50ca0620d4e3277",
            "_dom_classes": [],
            "description": "noise_mean",
            "step": 0.1,
            "_model_name": "FloatSliderModel",
            "orientation": "horizontal",
            "max": 1,
            "_view_module": "@jupyter-widgets/controls",
            "_model_module_version": "1.5.0",
            "value": 0,
            "_view_count": null,
            "disabled": false,
            "_view_module_version": "1.5.0",
            "min": -1,
            "continuous_update": true,
            "readout_format": ".2f",
            "description_tooltip": null,
            "readout": true,
            "_model_module": "@jupyter-widgets/controls",
            "layout": "IPY_MODEL_33b15889a35741e0ac875b21ba2c55c2"
          }
        },
        "1e4d91b6bf0144d79a3538b22279fbb4": {
          "model_module": "@jupyter-widgets/output",
          "model_name": "OutputModel",
          "state": {
            "_view_name": "OutputView",
            "msg_id": "",
            "_dom_classes": [],
            "_model_name": "OutputModel",
            "outputs": [
              {
                "output_type": "display_data",
                "metadata": {
                  "tags": [],
                  "needs_background": "light"
                },
                "image/png": "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\n",
                "text/plain": "<Figure size 576x360 with 1 Axes>"
              }
            ],
            "_view_module": "@jupyter-widgets/output",
            "_model_module_version": "1.0.0",
            "_view_count": null,
            "_view_module_version": "1.0.0",
            "layout": "IPY_MODEL_b61f08cb0bb84736b14f278ae3d07e39",
            "_model_module": "@jupyter-widgets/output"
          }
        },
        "ba69437862d041388214e275c0c3c7f8": {
          "model_module": "@jupyter-widgets/controls",
          "model_name": "DescriptionStyleModel",
          "state": {
            "_view_name": "StyleView",
            "_model_name": "DescriptionStyleModel",
            "description_width": "",
            "_view_module": "@jupyter-widgets/base",
            "_model_module_version": "1.5.0",
            "_view_count": null,
            "_view_module_version": "1.2.0",
            "_model_module": "@jupyter-widgets/controls"
          }
        },
        "4b215627507844b7bd923ba1ae2aceca": {
          "model_module": "@jupyter-widgets/base",
          "model_name": "LayoutModel",
          "state": {
            "_view_name": "LayoutView",
            "grid_template_rows": null,
            "right": null,
            "justify_content": null,
            "_view_module": "@jupyter-widgets/base",
            "overflow": null,
            "_model_module_version": "1.2.0",
            "_view_count": null,
            "flex_flow": null,
            "width": null,
            "min_width": null,
            "border": null,
            "align_items": null,
            "bottom": null,
            "_model_module": "@jupyter-widgets/base",
            "top": null,
            "grid_column": null,
            "overflow_y": null,
            "overflow_x": null,
            "grid_auto_flow": null,
            "grid_area": null,
            "grid_template_columns": null,
            "flex": null,
            "_model_name": "LayoutModel",
            "justify_items": null,
            "grid_row": null,
            "max_height": null,
            "align_content": null,
            "visibility": null,
            "align_self": null,
            "height": null,
            "min_height": null,
            "padding": null,
            "grid_auto_rows": null,
            "grid_gap": null,
            "max_width": null,
            "order": null,
            "_view_module_version": "1.2.0",
            "grid_template_areas": null,
            "object_position": null,
            "object_fit": null,
            "grid_auto_columns": null,
            "margin": null,
            "display": null,
            "left": null
          }
        },
        "8a42869ae5d94e8a9289cdb9a19174ac": {
          "model_module": "@jupyter-widgets/controls",
          "model_name": "SliderStyleModel",
          "state": {
            "_view_name": "StyleView",
            "handle_color": null,
            "_model_name": "SliderStyleModel",
            "description_width": "",
            "_view_module": "@jupyter-widgets/base",
            "_model_module_version": "1.5.0",
            "_view_count": null,
            "_view_module_version": "1.2.0",
            "_model_module": "@jupyter-widgets/controls"
          }
        },
        "e0229ed165664fbdb758da3398bd1c23": {
          "model_module": "@jupyter-widgets/base",
          "model_name": "LayoutModel",
          "state": {
            "_view_name": "LayoutView",
            "grid_template_rows": null,
            "right": null,
            "justify_content": null,
            "_view_module": "@jupyter-widgets/base",
            "overflow": null,
            "_model_module_version": "1.2.0",
            "_view_count": null,
            "flex_flow": null,
            "width": null,
            "min_width": null,
            "border": null,
            "align_items": null,
            "bottom": null,
            "_model_module": "@jupyter-widgets/base",
            "top": null,
            "grid_column": null,
            "overflow_y": null,
            "overflow_x": null,
            "grid_auto_flow": null,
            "grid_area": null,
            "grid_template_columns": null,
            "flex": null,
            "_model_name": "LayoutModel",
            "justify_items": null,
            "grid_row": null,
            "max_height": null,
            "align_content": null,
            "visibility": null,
            "align_self": null,
            "height": null,
            "min_height": null,
            "padding": null,
            "grid_auto_rows": null,
            "grid_gap": null,
            "max_width": null,
            "order": null,
            "_view_module_version": "1.2.0",
            "grid_template_areas": null,
            "object_position": null,
            "object_fit": null,
            "grid_auto_columns": null,
            "margin": null,
            "display": null,
            "left": null
          }
        },
        "77640df44ea84baabffebde05438fba2": {
          "model_module": "@jupyter-widgets/controls",
          "model_name": "SliderStyleModel",
          "state": {
            "_view_name": "StyleView",
            "handle_color": null,
            "_model_name": "SliderStyleModel",
            "description_width": "",
            "_view_module": "@jupyter-widgets/base",
            "_model_module_version": "1.5.0",
            "_view_count": null,
            "_view_module_version": "1.2.0",
            "_model_module": "@jupyter-widgets/controls"
          }
        },
        "ddd12eefc62b4d7bb6b6484b71aefca8": {
          "model_module": "@jupyter-widgets/base",
          "model_name": "LayoutModel",
          "state": {
            "_view_name": "LayoutView",
            "grid_template_rows": null,
            "right": null,
            "justify_content": null,
            "_view_module": "@jupyter-widgets/base",
            "overflow": null,
            "_model_module_version": "1.2.0",
            "_view_count": null,
            "flex_flow": null,
            "width": null,
            "min_width": null,
            "border": null,
            "align_items": null,
            "bottom": null,
            "_model_module": "@jupyter-widgets/base",
            "top": null,
            "grid_column": null,
            "overflow_y": null,
            "overflow_x": null,
            "grid_auto_flow": null,
            "grid_area": null,
            "grid_template_columns": null,
            "flex": null,
            "_model_name": "LayoutModel",
            "justify_items": null,
            "grid_row": null,
            "max_height": null,
            "align_content": null,
            "visibility": null,
            "align_self": null,
            "height": null,
            "min_height": null,
            "padding": null,
            "grid_auto_rows": null,
            "grid_gap": null,
            "max_width": null,
            "order": null,
            "_view_module_version": "1.2.0",
            "grid_template_areas": null,
            "object_position": null,
            "object_fit": null,
            "grid_auto_columns": null,
            "margin": null,
            "display": null,
            "left": null
          }
        },
        "2cd3e733cda54477986fb8b213c442f7": {
          "model_module": "@jupyter-widgets/controls",
          "model_name": "SliderStyleModel",
          "state": {
            "_view_name": "StyleView",
            "handle_color": null,
            "_model_name": "SliderStyleModel",
            "description_width": "",
            "_view_module": "@jupyter-widgets/base",
            "_model_module_version": "1.5.0",
            "_view_count": null,
            "_view_module_version": "1.2.0",
            "_model_module": "@jupyter-widgets/controls"
          }
        },
        "84628fb06b9b4555925fe78067363f3b": {
          "model_module": "@jupyter-widgets/base",
          "model_name": "LayoutModel",
          "state": {
            "_view_name": "LayoutView",
            "grid_template_rows": null,
            "right": null,
            "justify_content": null,
            "_view_module": "@jupyter-widgets/base",
            "overflow": null,
            "_model_module_version": "1.2.0",
            "_view_count": null,
            "flex_flow": null,
            "width": null,
            "min_width": null,
            "border": null,
            "align_items": null,
            "bottom": null,
            "_model_module": "@jupyter-widgets/base",
            "top": null,
            "grid_column": null,
            "overflow_y": null,
            "overflow_x": null,
            "grid_auto_flow": null,
            "grid_area": null,
            "grid_template_columns": null,
            "flex": null,
            "_model_name": "LayoutModel",
            "justify_items": null,
            "grid_row": null,
            "max_height": null,
            "align_content": null,
            "visibility": null,
            "align_self": null,
            "height": null,
            "min_height": null,
            "padding": null,
            "grid_auto_rows": null,
            "grid_gap": null,
            "max_width": null,
            "order": null,
            "_view_module_version": "1.2.0",
            "grid_template_areas": null,
            "object_position": null,
            "object_fit": null,
            "grid_auto_columns": null,
            "margin": null,
            "display": null,
            "left": null
          }
        },
        "2454ba51d2d24cc1a50ca0620d4e3277": {
          "model_module": "@jupyter-widgets/controls",
          "model_name": "SliderStyleModel",
          "state": {
            "_view_name": "StyleView",
            "handle_color": null,
            "_model_name": "SliderStyleModel",
            "description_width": "",
            "_view_module": "@jupyter-widgets/base",
            "_model_module_version": "1.5.0",
            "_view_count": null,
            "_view_module_version": "1.2.0",
            "_model_module": "@jupyter-widgets/controls"
          }
        },
        "33b15889a35741e0ac875b21ba2c55c2": {
          "model_module": "@jupyter-widgets/base",
          "model_name": "LayoutModel",
          "state": {
            "_view_name": "LayoutView",
            "grid_template_rows": null,
            "right": null,
            "justify_content": null,
            "_view_module": "@jupyter-widgets/base",
            "overflow": null,
            "_model_module_version": "1.2.0",
            "_view_count": null,
            "flex_flow": null,
            "width": null,
            "min_width": null,
            "border": null,
            "align_items": null,
            "bottom": null,
            "_model_module": "@jupyter-widgets/base",
            "top": null,
            "grid_column": null,
            "overflow_y": null,
            "overflow_x": null,
            "grid_auto_flow": null,
            "grid_area": null,
            "grid_template_columns": null,
            "flex": null,
            "_model_name": "LayoutModel",
            "justify_items": null,
            "grid_row": null,
            "max_height": null,
            "align_content": null,
            "visibility": null,
            "align_self": null,
            "height": null,
            "min_height": null,
            "padding": null,
            "grid_auto_rows": null,
            "grid_gap": null,
            "max_width": null,
            "order": null,
            "_view_module_version": "1.2.0",
            "grid_template_areas": null,
            "object_position": null,
            "object_fit": null,
            "grid_auto_columns": null,
            "margin": null,
            "display": null,
            "left": null
          }
        },
        "b61f08cb0bb84736b14f278ae3d07e39": {
          "model_module": "@jupyter-widgets/base",
          "model_name": "LayoutModel",
          "state": {
            "_view_name": "LayoutView",
            "grid_template_rows": null,
            "right": null,
            "justify_content": null,
            "_view_module": "@jupyter-widgets/base",
            "overflow": null,
            "_model_module_version": "1.2.0",
            "_view_count": null,
            "flex_flow": null,
            "width": null,
            "min_width": null,
            "border": null,
            "align_items": null,
            "bottom": null,
            "_model_module": "@jupyter-widgets/base",
            "top": null,
            "grid_column": null,
            "overflow_y": null,
            "overflow_x": null,
            "grid_auto_flow": null,
            "grid_area": null,
            "grid_template_columns": null,
            "flex": null,
            "_model_name": "LayoutModel",
            "justify_items": null,
            "grid_row": null,
            "max_height": null,
            "align_content": null,
            "visibility": null,
            "align_self": null,
            "height": null,
            "min_height": null,
            "padding": null,
            "grid_auto_rows": null,
            "grid_gap": null,
            "max_width": null,
            "order": null,
            "_view_module_version": "1.2.0",
            "grid_template_areas": null,
            "object_position": null,
            "object_fit": null,
            "grid_auto_columns": null,
            "margin": null,
            "display": null,
            "left": null
          }
        }
      }
    }
  },
  "cells": [
    {
      "cell_type": "markdown",
      "metadata": {
        "id": "view-in-github",
        "colab_type": "text"
      },
      "source": [
        "<a href=\"https://colab.research.google.com/github/JoDeMiro/InteractiveDemo/blob/main/Jupyter_Notebook_Interactive_Demo_1.ipynb\" target=\"_parent\"><img src=\"https://colab.research.google.com/assets/colab-badge.svg\" alt=\"Open In Colab\"/></a>"
      ]
    },
    {
      "cell_type": "code",
      "metadata": {
        "id": "e-ZRQ0F2iUED"
      },
      "source": [
        "# https://www.youtube.com/watch?v=jln6h-dE2-0"
      ],
      "execution_count": 1,
      "outputs": []
    },
    {
      "cell_type": "markdown",
      "metadata": {
        "id": "EMc6AN0HiXY1"
      },
      "source": [
        "## Interactive Demo"
      ]
    },
    {
      "cell_type": "code",
      "metadata": {
        "id": "-LR-VhQAiWru"
      },
      "source": [
        "\n",
        "import numpy as np\n",
        "import pandas as pd\n",
        "import matplotlib.pyplot as plt\n",
        "import ipywidgets as widgets\n",
        "\n",
        "from ipywidgets import interact, interactive, fixed, interact_manual\n",
        "from IPython.display import display\n",
        "\n",
        "from scipy.optimize import curve_fit as cf"
      ],
      "execution_count": 2,
      "outputs": []
    },
    {
      "cell_type": "markdown",
      "metadata": {
        "id": "RcSW-AnSjIuR"
      },
      "source": [
        "## Variables"
      ]
    },
    {
      "cell_type": "code",
      "metadata": {
        "id": "a6LG5gCwjGeQ"
      },
      "source": [
        "N_samples = 100\n",
        "x = np.linspace(-2, 2, N_samples)"
      ],
      "execution_count": 10,
      "outputs": []
    },
    {
      "cell_type": "markdown",
      "metadata": {
        "id": "vFvIp7DFjROV"
      },
      "source": [
        "## Function definitions (ideal fitting function and actual data generating function with noise)"
      ]
    },
    {
      "cell_type": "code",
      "metadata": {
        "id": "1jYwPNvCjSyy"
      },
      "source": [
        "def f(x, a, mu, sigma):\n",
        "    r = a * np.exp(-(x - mu)**2 / (2 * sigma**2))\n",
        "    return (r)"
      ],
      "execution_count": 11,
      "outputs": []
    },
    {
      "cell_type": "code",
      "metadata": {
        "id": "f95UdMEpjc7u"
      },
      "source": [
        "def func(amplitude, ideal_mu, ideal_sigma, noise_sd, noise_mean):\n",
        "    r = amplitude * np.exp(-(x - ideal_mu)**2 / (2 * ideal_sigma**2))\n",
        "    \n",
        "    plt.figure(figsize=(8,5))\n",
        "    plt.plot(x, r, c = 'k', lw = 3)\n",
        "    r = r + np.random.normal(loc = noise_mean, scale = noise_sd, size = N_samples)\n",
        "    plt.scatter(x , r, edgecolors = 'k', c = 'yellow', s = 60)\n",
        "    plt.grid(True)\n",
        "    plt.show()\n",
        "    return (r)"
      ],
      "execution_count": 12,
      "outputs": []
    },
    {
      "cell_type": "markdown",
      "metadata": {
        "id": "5c21HlTYj36H"
      },
      "source": [
        "## Call the 'interactive' widget with the data generating function, which also plots the data real-time\n",
        "\n",
        "Play with the 'noise_sd' and 'noise_mean' parameters to see how they impact the estimation (curve-fit) accuracy"
      ]
    },
    {
      "cell_type": "code",
      "metadata": {
        "colab": {
          "base_uri": "https://localhost:8080/",
          "height": 481,
          "referenced_widgets": [
            "f0cd4b954ccc4776b80c44c9fd7709ba",
            "620e86904e8b4f8191ea214bb3a2f5d7",
            "ac3150012e7546f7b3d6b1d69c0ec8ae",
            "08f896de29e248f18a2531a80c8655b8",
            "156be4ab42d140498bc535c5ce43ed8b",
            "a82c1630e15844d797b2136bfdafda5f",
            "e09fe5abf7674621b28eff1dd5bcc0b3",
            "1e4d91b6bf0144d79a3538b22279fbb4",
            "ba69437862d041388214e275c0c3c7f8",
            "4b215627507844b7bd923ba1ae2aceca",
            "8a42869ae5d94e8a9289cdb9a19174ac",
            "e0229ed165664fbdb758da3398bd1c23",
            "77640df44ea84baabffebde05438fba2",
            "ddd12eefc62b4d7bb6b6484b71aefca8",
            "2cd3e733cda54477986fb8b213c442f7",
            "84628fb06b9b4555925fe78067363f3b",
            "2454ba51d2d24cc1a50ca0620d4e3277",
            "33b15889a35741e0ac875b21ba2c55c2",
            "b61f08cb0bb84736b14f278ae3d07e39"
          ]
        },
        "id": "Ng65KLmrj127",
        "outputId": "c3e41164-6d24-463e-96d1-f0718c616c13"
      },
      "source": [
        "y = interactive(func, amplitude = [1,2,3,4,5],\n",
        "                ideal_mu = (-5, 5, 0.1),\n",
        "                ideal_sigma = (0, 2, 0.1),\n",
        "                noise_sd = (0, 1, 0.01),\n",
        "                noise_mean = (-1, 1, 0.1))\n",
        "display(y)"
      ],
      "execution_count": 18,
      "outputs": [
        {
          "output_type": "display_data",
          "data": {
            "application/vnd.jupyter.widget-view+json": {
              "model_id": "f0cd4b954ccc4776b80c44c9fd7709ba",
              "version_minor": 0,
              "version_major": 2
            },
            "text/plain": [
              "interactive(children=(Dropdown(description='amplitude', options=(1, 2, 3, 4, 5), value=1), FloatSlider(value=0…"
            ]
          },
          "metadata": {
            "tags": []
          }
        }
      ]
    },
    {
      "cell_type": "markdown",
      "metadata": {
        "id": "feu4D2kYlv5T"
      },
      "source": [
        "## Run curve-fitting optimizer to estimate parameters, store, and plot\n",
        "\n",
        "data comes from the `y.result` which is the return value of the `f()`"
      ]
    },
    {
      "cell_type": "code",
      "metadata": {
        "colab": {
          "base_uri": "https://localhost:8080/",
          "height": 442
        },
        "id": "IWUWnX7dkFAY",
        "outputId": "60169154-f77b-40d6-c52a-329e134f34ac"
      },
      "source": [
        "\n",
        "# Curve-fit optimizer\n",
        "p = y.result\n",
        "p1, _ = cf(f, xdata = x, ydata = p)\n",
        "par_lst = list(p1)\n",
        "\n",
        "# Gather ideal parameters from the interactive widget object\n",
        "p2 = list(y.kwargs.values())\n",
        "p3 = p2[0:3]\n",
        "\n",
        "# Make the data matrix\n",
        "data = np.array([p3, par_lst])\n",
        "\n",
        "# Put it in a Data Frame\n",
        "df = pd.DataFrame(data = data.T,\n",
        "                  index=['Amplitude','Mean','Std.Dev'],\n",
        "                  columns=['Original Params','Estimated Params'])\n",
        "print(df)\n",
        "\n",
        "# Plot the ideal and estimated curves\n",
        "plt.figure(figsize=(10,6))\n",
        "plt.plot(x, f(x, par_lst[0], par_lst[1], par_lst[2]), 'k--', lw = 2)\n",
        "plt.plot(x, f(x, p3[0], p3[1], p3[2]), c = 'green', lw = 2)\n",
        "plt.legend(['Fitted curve with noise','Ideal curve w/o noise'], fontsize = 12)\n",
        "plt.grid(True)\n",
        "plt.show()"
      ],
      "execution_count": 26,
      "outputs": [
        {
          "output_type": "stream",
          "text": [
            "           Original Params  Estimated Params\n",
            "Amplitude              1.0          0.811563\n",
            "Mean                   0.0          0.026130\n",
            "Std.Dev                1.0          0.838143\n"
          ],
          "name": "stdout"
        },
        {
          "output_type": "display_data",
          "data": {
            "image/png": "[encoded data removed]",
            "text/plain": [
              "<Figure size 720x432 with 1 Axes>"
            ]
          },
          "metadata": {
            "tags": [],
            "needs_background": "light"
          }
        }
      ]
    },
    {
      "cell_type": "code",
      "metadata": {
        "id": "-ADlWd2pl3g5"
      },
      "source": [
        ""
      ],
      "execution_count": null,
      "outputs": []
    }
  ]
}