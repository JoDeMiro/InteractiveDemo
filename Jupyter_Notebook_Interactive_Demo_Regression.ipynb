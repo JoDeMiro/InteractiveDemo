{
  "nbformat": 4,
  "nbformat_minor": 0,
  "metadata": {
    "colab": {
      "name": "Jupyter Notebook Interactive Demo Regression.ipynb",
      "provenance": [],
      "collapsed_sections": [],
      "authorship_tag": "ABX9TyNY1egC/iWe2zPgU0PG8Twy",
      "include_colab_link": true
    },
    "kernelspec": {
      "name": "python3",
      "display_name": "Python 3"
    },
    "language_info": {
      "name": "python"
    },
    "widgets": {
      "application/vnd.jupyter.widget-state+json": {
        "4a72a1f222d940d7bebbebe21ab0c88c": {
          "model_module": "@jupyter-widgets/controls",
          "model_name": "VBoxModel",
          "state": {
            "_view_name": "VBoxView",
            "_dom_classes": [
              "widget-interact"
            ],
            "_model_name": "VBoxModel",
            "_view_module": "@jupyter-widgets/controls",
            "_model_module_version": "1.5.0",
            "_view_count": null,
            "_view_module_version": "1.5.0",
            "box_style": "",
            "layout": "IPY_MODEL_91b00eb871914e1180aae66184382183",
            "_model_module": "@jupyter-widgets/controls",
            "children": [
              "IPY_MODEL_0d7a7f72869c46e9a9e06aaa9e7073fa",
              "IPY_MODEL_cd654e0564fe4a2a95019d7caf0da8ee",
              "IPY_MODEL_c07308214fd94d6d9f56925157972466",
              "IPY_MODEL_0dd6a91d21f7407f8c20a1c5d2fb0c1a",
              "IPY_MODEL_eafdaee241834818b62aa709e3a3f60e",
              "IPY_MODEL_17bfeff0aa404776816e666130538da9",
              "IPY_MODEL_e62b148c24994f94bb9f4d9d37e5dd55"
            ]
          }
        },
        "91b00eb871914e1180aae66184382183": {
          "model_module": "@jupyter-widgets/base",
          "model_name": "LayoutModel",
          "state": {
            "_view_name": "LayoutView",
            "grid_template_rows": null,
            "right": null,
            "justify_content": null,
            "_view_module": "@jupyter-widgets/base",
            "overflow": null,
            "_model_module_version": "1.2.0",
            "_view_count": null,
            "flex_flow": null,
            "width": null,
            "min_width": null,
            "border": null,
            "align_items": null,
            "bottom": null,
            "_model_module": "@jupyter-widgets/base",
            "top": null,
            "grid_column": null,
            "overflow_y": null,
            "overflow_x": null,
            "grid_auto_flow": null,
            "grid_area": null,
            "grid_template_columns": null,
            "flex": null,
            "_model_name": "LayoutModel",
            "justify_items": null,
            "grid_row": null,
            "max_height": null,
            "align_content": null,
            "visibility": null,
            "align_self": null,
            "height": null,
            "min_height": null,
            "padding": null,
            "grid_auto_rows": null,
            "grid_gap": null,
            "max_width": null,
            "order": null,
            "_view_module_version": "1.2.0",
            "grid_template_areas": null,
            "object_position": null,
            "object_fit": null,
            "grid_auto_columns": null,
            "margin": null,
            "display": null,
            "left": null
          }
        },
        "0d7a7f72869c46e9a9e06aaa9e7073fa": {
          "model_module": "@jupyter-widgets/controls",
          "model_name": "DropdownModel",
          "state": {
            "_options_labels": [
              "Low (50 samples)",
              "High (200 samples)"
            ],
            "_view_name": "DropdownView",
            "style": "IPY_MODEL_e0d31f0838fa436cb8dc0d265fae68a0",
            "_dom_classes": [],
            "description": "N_samples",
            "_model_name": "DropdownModel",
            "index": 0,
            "_view_module": "@jupyter-widgets/controls",
            "_model_module_version": "1.5.0",
            "_view_count": null,
            "disabled": false,
            "_view_module_version": "1.5.0",
            "description_tooltip": null,
            "_model_module": "@jupyter-widgets/controls",
            "layout": "IPY_MODEL_6512552096454dbabd7f63c6644494db"
          }
        },
        "cd654e0564fe4a2a95019d7caf0da8ee": {
          "model_module": "@jupyter-widgets/controls",
          "model_name": "IntSliderModel",
          "state": {
            "_view_name": "IntSliderView",
            "style": "IPY_MODEL_28a08eab254b4f9e95050c7b884cd891",
            "_dom_classes": [],
            "description": "x_min",
            "step": 1,
            "_model_name": "IntSliderModel",
            "orientation": "horizontal",
            "max": 0,
            "_view_module": "@jupyter-widgets/controls",
            "_model_module_version": "1.5.0",
            "value": -3,
            "_view_count": null,
            "disabled": false,
            "_view_module_version": "1.5.0",
            "min": -5,
            "continuous_update": true,
            "readout_format": "d",
            "description_tooltip": null,
            "readout": true,
            "_model_module": "@jupyter-widgets/controls",
            "layout": "IPY_MODEL_536dabbc50b945ec98e4fc401b44f30e"
          }
        },
        "c07308214fd94d6d9f56925157972466": {
          "model_module": "@jupyter-widgets/controls",
          "model_name": "IntSliderModel",
          "state": {
            "_view_name": "IntSliderView",
            "style": "IPY_MODEL_1361ed204ed04e858e73786450450d6d",
            "_dom_classes": [],
            "description": "x_max",
            "step": 1,
            "_model_name": "IntSliderModel",
            "orientation": "horizontal",
            "max": 5,
            "_view_module": "@jupyter-widgets/controls",
            "_model_module_version": "1.5.0",
            "value": 4,
            "_view_count": null,
            "disabled": false,
            "_view_module_version": "1.5.0",
            "min": 0,
            "continuous_update": true,
            "readout_format": "d",
            "description_tooltip": null,
            "readout": true,
            "_model_module": "@jupyter-widgets/controls",
            "layout": "IPY_MODEL_c0597ad0f1104f15bd4f4265a92c9c06"
          }
        },
        "0dd6a91d21f7407f8c20a1c5d2fb0c1a": {
          "model_module": "@jupyter-widgets/controls",
          "model_name": "IntSliderModel",
          "state": {
            "_view_name": "IntSliderView",
            "style": "IPY_MODEL_3c9e0b4ec0b84455a04304008422592a",
            "_dom_classes": [],
            "description": "noise_magnitude",
            "step": 1,
            "_model_name": "IntSliderModel",
            "orientation": "horizontal",
            "max": 5,
            "_view_module": "@jupyter-widgets/controls",
            "_model_module_version": "1.5.0",
            "value": 2,
            "_view_count": null,
            "disabled": false,
            "_view_module_version": "1.5.0",
            "min": 0,
            "continuous_update": true,
            "readout_format": "d",
            "description_tooltip": null,
            "readout": true,
            "_model_module": "@jupyter-widgets/controls",
            "layout": "IPY_MODEL_e62614e9960b4ffb96778ecab21f1521"
          }
        },
        "eafdaee241834818b62aa709e3a3f60e": {
          "model_module": "@jupyter-widgets/controls",
          "model_name": "FloatSliderModel",
          "state": {
            "_view_name": "FloatSliderView",
            "style": "IPY_MODEL_6e6ead39143444a28303e4e6ca885ea1",
            "_dom_classes": [],
            "description": "noise_sd",
            "step": 0.1,
            "_model_name": "FloatSliderModel",
            "orientation": "horizontal",
            "max": 1,
            "_view_module": "@jupyter-widgets/controls",
            "_model_module_version": "1.5.0",
            "value": 0.5,
            "_view_count": null,
            "disabled": false,
            "_view_module_version": "1.5.0",
            "min": 0.1,
            "continuous_update": true,
            "readout_format": ".2f",
            "description_tooltip": null,
            "readout": true,
            "_model_module": "@jupyter-widgets/controls",
            "layout": "IPY_MODEL_9f474191894d4aa58392e3ad3a1696a3"
          }
        },
        "17bfeff0aa404776816e666130538da9": {
          "model_module": "@jupyter-widgets/controls",
          "model_name": "FloatSliderModel",
          "state": {
            "_view_name": "FloatSliderView",
            "style": "IPY_MODEL_53826412ae754603b337e6a14ca410ec",
            "_dom_classes": [],
            "description": "noise_mean",
            "step": 0.5,
            "_model_name": "FloatSliderModel",
            "orientation": "horizontal",
            "max": 2,
            "_view_module": "@jupyter-widgets/controls",
            "_model_module_version": "1.5.0",
            "value": 0,
            "_view_count": null,
            "disabled": false,
            "_view_module_version": "1.5.0",
            "min": -2,
            "continuous_update": true,
            "readout_format": ".2f",
            "description_tooltip": null,
            "readout": true,
            "_model_module": "@jupyter-widgets/controls",
            "layout": "IPY_MODEL_ad9b61f83c044144865ab3781306af63"
          }
        },
        "e62b148c24994f94bb9f4d9d37e5dd55": {
          "model_module": "@jupyter-widgets/output",
          "model_name": "OutputModel",
          "state": {
            "_view_name": "OutputView",
            "msg_id": "",
            "_dom_classes": [],
            "_model_name": "OutputModel",
            "outputs": [
              {
                "output_type": "display_data",
                "metadata": {
                  "tags": [],
                  "needs_background": "light"
                },
                "image/png": "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\n",
                "text/plain": "<Figure size 576x360 with 1 Axes>"
              }
            ],
            "_view_module": "@jupyter-widgets/output",
            "_model_module_version": "1.0.0",
            "_view_count": null,
            "_view_module_version": "1.0.0",
            "layout": "IPY_MODEL_915e9850a4bb456da74354573f6db696",
            "_model_module": "@jupyter-widgets/output"
          }
        },
        "e0d31f0838fa436cb8dc0d265fae68a0": {
          "model_module": "@jupyter-widgets/controls",
          "model_name": "DescriptionStyleModel",
          "state": {
            "_view_name": "StyleView",
            "_model_name": "DescriptionStyleModel",
            "description_width": "",
            "_view_module": "@jupyter-widgets/base",
            "_model_module_version": "1.5.0",
            "_view_count": null,
            "_view_module_version": "1.2.0",
            "_model_module": "@jupyter-widgets/controls"
          }
        },
        "6512552096454dbabd7f63c6644494db": {
          "model_module": "@jupyter-widgets/base",
          "model_name": "LayoutModel",
          "state": {
            "_view_name": "LayoutView",
            "grid_template_rows": null,
            "right": null,
            "justify_content": null,
            "_view_module": "@jupyter-widgets/base",
            "overflow": null,
            "_model_module_version": "1.2.0",
            "_view_count": null,
            "flex_flow": null,
            "width": null,
            "min_width": null,
            "border": null,
            "align_items": null,
            "bottom": null,
            "_model_module": "@jupyter-widgets/base",
            "top": null,
            "grid_column": null,
            "overflow_y": null,
            "overflow_x": null,
            "grid_auto_flow": null,
            "grid_area": null,
            "grid_template_columns": null,
            "flex": null,
            "_model_name": "LayoutModel",
            "justify_items": null,
            "grid_row": null,
            "max_height": null,
            "align_content": null,
            "visibility": null,
            "align_self": null,
            "height": null,
            "min_height": null,
            "padding": null,
            "grid_auto_rows": null,
            "grid_gap": null,
            "max_width": null,
            "order": null,
            "_view_module_version": "1.2.0",
            "grid_template_areas": null,
            "object_position": null,
            "object_fit": null,
            "grid_auto_columns": null,
            "margin": null,
            "display": null,
            "left": null
          }
        },
        "28a08eab254b4f9e95050c7b884cd891": {
          "model_module": "@jupyter-widgets/controls",
          "model_name": "SliderStyleModel",
          "state": {
            "_view_name": "StyleView",
            "handle_color": null,
            "_model_name": "SliderStyleModel",
            "description_width": "",
            "_view_module": "@jupyter-widgets/base",
            "_model_module_version": "1.5.0",
            "_view_count": null,
            "_view_module_version": "1.2.0",
            "_model_module": "@jupyter-widgets/controls"
          }
        },
        "536dabbc50b945ec98e4fc401b44f30e": {
          "model_module": "@jupyter-widgets/base",
          "model_name": "LayoutModel",
          "state": {
            "_view_name": "LayoutView",
            "grid_template_rows": null,
            "right": null,
            "justify_content": null,
            "_view_module": "@jupyter-widgets/base",
            "overflow": null,
            "_model_module_version": "1.2.0",
            "_view_count": null,
            "flex_flow": null,
            "width": null,
            "min_width": null,
            "border": null,
            "align_items": null,
            "bottom": null,
            "_model_module": "@jupyter-widgets/base",
            "top": null,
            "grid_column": null,
            "overflow_y": null,
            "overflow_x": null,
            "grid_auto_flow": null,
            "grid_area": null,
            "grid_template_columns": null,
            "flex": null,
            "_model_name": "LayoutModel",
            "justify_items": null,
            "grid_row": null,
            "max_height": null,
            "align_content": null,
            "visibility": null,
            "align_self": null,
            "height": null,
            "min_height": null,
            "padding": null,
            "grid_auto_rows": null,
            "grid_gap": null,
            "max_width": null,
            "order": null,
            "_view_module_version": "1.2.0",
            "grid_template_areas": null,
            "object_position": null,
            "object_fit": null,
            "grid_auto_columns": null,
            "margin": null,
            "display": null,
            "left": null
          }
        },
        "1361ed204ed04e858e73786450450d6d": {
          "model_module": "@jupyter-widgets/controls",
          "model_name": "SliderStyleModel",
          "state": {
            "_view_name": "StyleView",
            "handle_color": null,
            "_model_name": "SliderStyleModel",
            "description_width": "",
            "_view_module": "@jupyter-widgets/base",
            "_model_module_version": "1.5.0",
            "_view_count": null,
            "_view_module_version": "1.2.0",
            "_model_module": "@jupyter-widgets/controls"
          }
        },
        "c0597ad0f1104f15bd4f4265a92c9c06": {
          "model_module": "@jupyter-widgets/base",
          "model_name": "LayoutModel",
          "state": {
            "_view_name": "LayoutView",
            "grid_template_rows": null,
            "right": null,
            "justify_content": null,
            "_view_module": "@jupyter-widgets/base",
            "overflow": null,
            "_model_module_version": "1.2.0",
            "_view_count": null,
            "flex_flow": null,
            "width": null,
            "min_width": null,
            "border": null,
            "align_items": null,
            "bottom": null,
            "_model_module": "@jupyter-widgets/base",
            "top": null,
            "grid_column": null,
            "overflow_y": null,
            "overflow_x": null,
            "grid_auto_flow": null,
            "grid_area": null,
            "grid_template_columns": null,
            "flex": null,
            "_model_name": "LayoutModel",
            "justify_items": null,
            "grid_row": null,
            "max_height": null,
            "align_content": null,
            "visibility": null,
            "align_self": null,
            "height": null,
            "min_height": null,
            "padding": null,
            "grid_auto_rows": null,
            "grid_gap": null,
            "max_width": null,
            "order": null,
            "_view_module_version": "1.2.0",
            "grid_template_areas": null,
            "object_position": null,
            "object_fit": null,
            "grid_auto_columns": null,
            "margin": null,
            "display": null,
            "left": null
          }
        },
        "3c9e0b4ec0b84455a04304008422592a": {
          "model_module": "@jupyter-widgets/controls",
          "model_name": "SliderStyleModel",
          "state": {
            "_view_name": "StyleView",
            "handle_color": null,
            "_model_name": "SliderStyleModel",
            "description_width": "",
            "_view_module": "@jupyter-widgets/base",
            "_model_module_version": "1.5.0",
            "_view_count": null,
            "_view_module_version": "1.2.0",
            "_model_module": "@jupyter-widgets/controls"
          }
        },
        "e62614e9960b4ffb96778ecab21f1521": {
          "model_module": "@jupyter-widgets/base",
          "model_name": "LayoutModel",
          "state": {
            "_view_name": "LayoutView",
            "grid_template_rows": null,
            "right": null,
            "justify_content": null,
            "_view_module": "@jupyter-widgets/base",
            "overflow": null,
            "_model_module_version": "1.2.0",
            "_view_count": null,
            "flex_flow": null,
            "width": null,
            "min_width": null,
            "border": null,
            "align_items": null,
            "bottom": null,
            "_model_module": "@jupyter-widgets/base",
            "top": null,
            "grid_column": null,
            "overflow_y": null,
            "overflow_x": null,
            "grid_auto_flow": null,
            "grid_area": null,
            "grid_template_columns": null,
            "flex": null,
            "_model_name": "LayoutModel",
            "justify_items": null,
            "grid_row": null,
            "max_height": null,
            "align_content": null,
            "visibility": null,
            "align_self": null,
            "height": null,
            "min_height": null,
            "padding": null,
            "grid_auto_rows": null,
            "grid_gap": null,
            "max_width": null,
            "order": null,
            "_view_module_version": "1.2.0",
            "grid_template_areas": null,
            "object_position": null,
            "object_fit": null,
            "grid_auto_columns": null,
            "margin": null,
            "display": null,
            "left": null
          }
        },
        "6e6ead39143444a28303e4e6ca885ea1": {
          "model_module": "@jupyter-widgets/controls",
          "model_name": "SliderStyleModel",
          "state": {
            "_view_name": "StyleView",
            "handle_color": null,
            "_model_name": "SliderStyleModel",
            "description_width": "",
            "_view_module": "@jupyter-widgets/base",
            "_model_module_version": "1.5.0",
            "_view_count": null,
            "_view_module_version": "1.2.0",
            "_model_module": "@jupyter-widgets/controls"
          }
        },
        "9f474191894d4aa58392e3ad3a1696a3": {
          "model_module": "@jupyter-widgets/base",
          "model_name": "LayoutModel",
          "state": {
            "_view_name": "LayoutView",
            "grid_template_rows": null,
            "right": null,
            "justify_content": null,
            "_view_module": "@jupyter-widgets/base",
            "overflow": null,
            "_model_module_version": "1.2.0",
            "_view_count": null,
            "flex_flow": null,
            "width": null,
            "min_width": null,
            "border": null,
            "align_items": null,
            "bottom": null,
            "_model_module": "@jupyter-widgets/base",
            "top": null,
            "grid_column": null,
            "overflow_y": null,
            "overflow_x": null,
            "grid_auto_flow": null,
            "grid_area": null,
            "grid_template_columns": null,
            "flex": null,
            "_model_name": "LayoutModel",
            "justify_items": null,
            "grid_row": null,
            "max_height": null,
            "align_content": null,
            "visibility": null,
            "align_self": null,
            "height": null,
            "min_height": null,
            "padding": null,
            "grid_auto_rows": null,
            "grid_gap": null,
            "max_width": null,
            "order": null,
            "_view_module_version": "1.2.0",
            "grid_template_areas": null,
            "object_position": null,
            "object_fit": null,
            "grid_auto_columns": null,
            "margin": null,
            "display": null,
            "left": null
          }
        },
        "53826412ae754603b337e6a14ca410ec": {
          "model_module": "@jupyter-widgets/controls",
          "model_name": "SliderStyleModel",
          "state": {
            "_view_name": "StyleView",
            "handle_color": null,
            "_model_name": "SliderStyleModel",
            "description_width": "",
            "_view_module": "@jupyter-widgets/base",
            "_model_module_version": "1.5.0",
            "_view_count": null,
            "_view_module_version": "1.2.0",
            "_model_module": "@jupyter-widgets/controls"
          }
        },
        "ad9b61f83c044144865ab3781306af63": {
          "model_module": "@jupyter-widgets/base",
          "model_name": "LayoutModel",
          "state": {
            "_view_name": "LayoutView",
            "grid_template_rows": null,
            "right": null,
            "justify_content": null,
            "_view_module": "@jupyter-widgets/base",
            "overflow": null,
            "_model_module_version": "1.2.0",
            "_view_count": null,
            "flex_flow": null,
            "width": null,
            "min_width": null,
            "border": null,
            "align_items": null,
            "bottom": null,
            "_model_module": "@jupyter-widgets/base",
            "top": null,
            "grid_column": null,
            "overflow_y": null,
            "overflow_x": null,
            "grid_auto_flow": null,
            "grid_area": null,
            "grid_template_columns": null,
            "flex": null,
            "_model_name": "LayoutModel",
            "justify_items": null,
            "grid_row": null,
            "max_height": null,
            "align_content": null,
            "visibility": null,
            "align_self": null,
            "height": null,
            "min_height": null,
            "padding": null,
            "grid_auto_rows": null,
            "grid_gap": null,
            "max_width": null,
            "order": null,
            "_view_module_version": "1.2.0",
            "grid_template_areas": null,
            "object_position": null,
            "object_fit": null,
            "grid_auto_columns": null,
            "margin": null,
            "display": null,
            "left": null
          }
        },
        "915e9850a4bb456da74354573f6db696": {
          "model_module": "@jupyter-widgets/base",
          "model_name": "LayoutModel",
          "state": {
            "_view_name": "LayoutView",
            "grid_template_rows": null,
            "right": null,
            "justify_content": null,
            "_view_module": "@jupyter-widgets/base",
            "overflow": null,
            "_model_module_version": "1.2.0",
            "_view_count": null,
            "flex_flow": null,
            "width": null,
            "min_width": null,
            "border": null,
            "align_items": null,
            "bottom": null,
            "_model_module": "@jupyter-widgets/base",
            "top": null,
            "grid_column": null,
            "overflow_y": null,
            "overflow_x": null,
            "grid_auto_flow": null,
            "grid_area": null,
            "grid_template_columns": null,
            "flex": null,
            "_model_name": "LayoutModel",
            "justify_items": null,
            "grid_row": null,
            "max_height": null,
            "align_content": null,
            "visibility": null,
            "align_self": null,
            "height": null,
            "min_height": null,
            "padding": null,
            "grid_auto_rows": null,
            "grid_gap": null,
            "max_width": null,
            "order": null,
            "_view_module_version": "1.2.0",
            "grid_template_areas": null,
            "object_position": null,
            "object_fit": null,
            "grid_auto_columns": null,
            "margin": null,
            "display": null,
            "left": null
          }
        },
        "2650f17c67a54abe86b31833844d7fdc": {
          "model_module": "@jupyter-widgets/controls",
          "model_name": "VBoxModel",
          "state": {
            "_view_name": "VBoxView",
            "_dom_classes": [
              "widget-interact"
            ],
            "_model_name": "VBoxModel",
            "_view_module": "@jupyter-widgets/controls",
            "_model_module_version": "1.5.0",
            "_view_count": null,
            "_view_module_version": "1.5.0",
            "box_style": "",
            "layout": "IPY_MODEL_16ee86377e554515962e2955c4b72255",
            "_model_module": "@jupyter-widgets/controls",
            "children": [
              "IPY_MODEL_41695ac5f9ff465cbc2bb3df56299379",
              "IPY_MODEL_75ca0df6d77c4edabaf48a5484d9c10e",
              "IPY_MODEL_c01515412061465eb210e9a2e8e364ed",
              "IPY_MODEL_213e6414f1624254b71280a54d53715e"
            ]
          }
        },
        "16ee86377e554515962e2955c4b72255": {
          "model_module": "@jupyter-widgets/base",
          "model_name": "LayoutModel",
          "state": {
            "_view_name": "LayoutView",
            "grid_template_rows": null,
            "right": null,
            "justify_content": null,
            "_view_module": "@jupyter-widgets/base",
            "overflow": null,
            "_model_module_version": "1.2.0",
            "_view_count": null,
            "flex_flow": null,
            "width": null,
            "min_width": null,
            "border": null,
            "align_items": null,
            "bottom": null,
            "_model_module": "@jupyter-widgets/base",
            "top": null,
            "grid_column": null,
            "overflow_y": null,
            "overflow_x": null,
            "grid_auto_flow": null,
            "grid_area": null,
            "grid_template_columns": null,
            "flex": null,
            "_model_name": "LayoutModel",
            "justify_items": null,
            "grid_row": null,
            "max_height": null,
            "align_content": null,
            "visibility": null,
            "align_self": null,
            "height": null,
            "min_height": null,
            "padding": null,
            "grid_auto_rows": null,
            "grid_gap": null,
            "max_width": null,
            "order": null,
            "_view_module_version": "1.2.0",
            "grid_template_areas": null,
            "object_position": null,
            "object_fit": null,
            "grid_auto_columns": null,
            "margin": null,
            "display": null,
            "left": null
          }
        },
        "41695ac5f9ff465cbc2bb3df56299379": {
          "model_module": "@jupyter-widgets/controls",
          "model_name": "RadioButtonsModel",
          "state": {
            "_options_labels": [
              "Linear regression",
              "LASSO with CV",
              "Ridge with CV"
            ],
            "_view_name": "RadioButtonsView",
            "style": "IPY_MODEL_b090df7f45814e819744ba88579f8e79",
            "_dom_classes": [],
            "description": "Choose Model",
            "_model_name": "RadioButtonsModel",
            "index": 0,
            "_view_module": "@jupyter-widgets/controls",
            "_model_module_version": "1.5.0",
            "_view_count": null,
            "disabled": false,
            "_view_module_version": "1.5.0",
            "description_tooltip": null,
            "_model_module": "@jupyter-widgets/controls",
            "layout": "IPY_MODEL_b70406553d1845799dca0aa7e46f45b1"
          }
        },
        "75ca0df6d77c4edabaf48a5484d9c10e": {
          "model_module": "@jupyter-widgets/controls",
          "model_name": "DropdownModel",
          "state": {
            "_options_labels": [
              "10% of data",
              "20% of data",
              "30% of data",
              "40% of data",
              "50% of data"
            ],
            "_view_name": "DropdownView",
            "style": "IPY_MODEL_9d9b88ba48e24b90afa783d56be3cf40",
            "_dom_classes": [],
            "description": "Test set size ($X_{test}$)",
            "_model_name": "DropdownModel",
            "index": 4,
            "_view_module": "@jupyter-widgets/controls",
            "_model_module_version": "1.5.0",
            "_view_count": null,
            "disabled": false,
            "_view_module_version": "1.5.0",
            "description_tooltip": null,
            "_model_module": "@jupyter-widgets/controls",
            "layout": "IPY_MODEL_0a25c0610ddf4c07add0c883e1e694c5"
          }
        },
        "c01515412061465eb210e9a2e8e364ed": {
          "model_module": "@jupyter-widgets/controls",
          "model_name": "IntSliderModel",
          "state": {
            "_view_name": "IntSliderView",
            "style": "IPY_MODEL_79cf3ded622e4766976619833833ccab",
            "_dom_classes": [],
            "description": "Polynomial($\\sum\\limits_{i=1}^n a_nx^n$)",
            "step": 1,
            "_model_name": "IntSliderModel",
            "orientation": "horizontal",
            "max": 10,
            "_view_module": "@jupyter-widgets/controls",
            "_model_module_version": "1.5.0",
            "value": 3,
            "_view_count": null,
            "disabled": false,
            "_view_module_version": "1.5.0",
            "min": 1,
            "continuous_update": false,
            "readout_format": "d",
            "description_tooltip": null,
            "readout": true,
            "_model_module": "@jupyter-widgets/controls",
            "layout": "IPY_MODEL_1c34193f3b4b4fa982cfc8725ddd58aa"
          }
        },
        "213e6414f1624254b71280a54d53715e": {
          "model_module": "@jupyter-widgets/output",
          "model_name": "OutputModel",
          "state": {
            "_view_name": "OutputView",
            "msg_id": "",
            "_dom_classes": [],
            "_model_name": "OutputModel",
            "outputs": [
              {
                "output_type": "display_data",
                "metadata": {
                  "tags": [],
                  "needs_background": "light"
                },
                "image/png": "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\n",
                "text/plain": "<Figure size 1008x432 with 2 Axes>"
              }
            ],
            "_view_module": "@jupyter-widgets/output",
            "_model_module_version": "1.0.0",
            "_view_count": null,
            "_view_module_version": "1.0.0",
            "layout": "IPY_MODEL_be368df279b94b1ba865c584d04d0d04",
            "_model_module": "@jupyter-widgets/output"
          }
        },
        "b090df7f45814e819744ba88579f8e79": {
          "model_module": "@jupyter-widgets/controls",
          "model_name": "DescriptionStyleModel",
          "state": {
            "_view_name": "StyleView",
            "_model_name": "DescriptionStyleModel",
            "description_width": "initial",
            "_view_module": "@jupyter-widgets/base",
            "_model_module_version": "1.5.0",
            "_view_count": null,
            "_view_module_version": "1.2.0",
            "_model_module": "@jupyter-widgets/controls"
          }
        },
        "b70406553d1845799dca0aa7e46f45b1": {
          "model_module": "@jupyter-widgets/base",
          "model_name": "LayoutModel",
          "state": {
            "_view_name": "LayoutView",
            "grid_template_rows": null,
            "right": null,
            "justify_content": null,
            "_view_module": "@jupyter-widgets/base",
            "overflow": null,
            "_model_module_version": "1.2.0",
            "_view_count": null,
            "flex_flow": null,
            "width": "250px",
            "min_width": null,
            "border": null,
            "align_items": null,
            "bottom": null,
            "_model_module": "@jupyter-widgets/base",
            "top": null,
            "grid_column": null,
            "overflow_y": null,
            "overflow_x": null,
            "grid_auto_flow": null,
            "grid_area": null,
            "grid_template_columns": null,
            "flex": null,
            "_model_name": "LayoutModel",
            "justify_items": null,
            "grid_row": null,
            "max_height": null,
            "align_content": null,
            "visibility": null,
            "align_self": null,
            "height": null,
            "min_height": null,
            "padding": null,
            "grid_auto_rows": null,
            "grid_gap": null,
            "max_width": null,
            "order": null,
            "_view_module_version": "1.2.0",
            "grid_template_areas": null,
            "object_position": null,
            "object_fit": null,
            "grid_auto_columns": null,
            "margin": null,
            "display": null,
            "left": null
          }
        },
        "9d9b88ba48e24b90afa783d56be3cf40": {
          "model_module": "@jupyter-widgets/controls",
          "model_name": "DescriptionStyleModel",
          "state": {
            "_view_name": "StyleView",
            "_model_name": "DescriptionStyleModel",
            "description_width": "initial",
            "_view_module": "@jupyter-widgets/base",
            "_model_module_version": "1.5.0",
            "_view_count": null,
            "_view_module_version": "1.2.0",
            "_model_module": "@jupyter-widgets/controls"
          }
        },
        "0a25c0610ddf4c07add0c883e1e694c5": {
          "model_module": "@jupyter-widgets/base",
          "model_name": "LayoutModel",
          "state": {
            "_view_name": "LayoutView",
            "grid_template_rows": null,
            "right": null,
            "justify_content": null,
            "_view_module": "@jupyter-widgets/base",
            "overflow": null,
            "_model_module_version": "1.2.0",
            "_view_count": null,
            "flex_flow": null,
            "width": null,
            "min_width": null,
            "border": null,
            "align_items": null,
            "bottom": null,
            "_model_module": "@jupyter-widgets/base",
            "top": null,
            "grid_column": null,
            "overflow_y": null,
            "overflow_x": null,
            "grid_auto_flow": null,
            "grid_area": null,
            "grid_template_columns": null,
            "flex": null,
            "_model_name": "LayoutModel",
            "justify_items": null,
            "grid_row": null,
            "max_height": null,
            "align_content": null,
            "visibility": null,
            "align_self": null,
            "height": null,
            "min_height": null,
            "padding": null,
            "grid_auto_rows": null,
            "grid_gap": null,
            "max_width": null,
            "order": null,
            "_view_module_version": "1.2.0",
            "grid_template_areas": null,
            "object_position": null,
            "object_fit": null,
            "grid_auto_columns": null,
            "margin": null,
            "display": null,
            "left": null
          }
        },
        "79cf3ded622e4766976619833833ccab": {
          "model_module": "@jupyter-widgets/controls",
          "model_name": "SliderStyleModel",
          "state": {
            "_view_name": "StyleView",
            "handle_color": null,
            "_model_name": "SliderStyleModel",
            "description_width": "initial",
            "_view_module": "@jupyter-widgets/base",
            "_model_module_version": "1.5.0",
            "_view_count": null,
            "_view_module_version": "1.2.0",
            "_model_module": "@jupyter-widgets/controls"
          }
        },
        "1c34193f3b4b4fa982cfc8725ddd58aa": {
          "model_module": "@jupyter-widgets/base",
          "model_name": "LayoutModel",
          "state": {
            "_view_name": "LayoutView",
            "grid_template_rows": null,
            "right": null,
            "justify_content": null,
            "_view_module": "@jupyter-widgets/base",
            "overflow": null,
            "_model_module_version": "1.2.0",
            "_view_count": null,
            "flex_flow": null,
            "width": null,
            "min_width": null,
            "border": null,
            "align_items": null,
            "bottom": null,
            "_model_module": "@jupyter-widgets/base",
            "top": null,
            "grid_column": null,
            "overflow_y": null,
            "overflow_x": null,
            "grid_auto_flow": null,
            "grid_area": null,
            "grid_template_columns": null,
            "flex": null,
            "_model_name": "LayoutModel",
            "justify_items": null,
            "grid_row": null,
            "max_height": null,
            "align_content": null,
            "visibility": null,
            "align_self": null,
            "height": null,
            "min_height": null,
            "padding": null,
            "grid_auto_rows": null,
            "grid_gap": null,
            "max_width": null,
            "order": null,
            "_view_module_version": "1.2.0",
            "grid_template_areas": null,
            "object_position": null,
            "object_fit": null,
            "grid_auto_columns": null,
            "margin": null,
            "display": null,
            "left": null
          }
        },
        "be368df279b94b1ba865c584d04d0d04": {
          "model_module": "@jupyter-widgets/base",
          "model_name": "LayoutModel",
          "state": {
            "_view_name": "LayoutView",
            "grid_template_rows": null,
            "right": null,
            "justify_content": null,
            "_view_module": "@jupyter-widgets/base",
            "overflow": null,
            "_model_module_version": "1.2.0",
            "_view_count": null,
            "flex_flow": null,
            "width": null,
            "min_width": null,
            "border": null,
            "align_items": null,
            "bottom": null,
            "_model_module": "@jupyter-widgets/base",
            "top": null,
            "grid_column": null,
            "overflow_y": null,
            "overflow_x": null,
            "grid_auto_flow": null,
            "grid_area": null,
            "grid_template_columns": null,
            "flex": null,
            "_model_name": "LayoutModel",
            "justify_items": null,
            "grid_row": null,
            "max_height": null,
            "align_content": null,
            "visibility": null,
            "align_self": null,
            "height": "450px",
            "min_height": null,
            "padding": null,
            "grid_auto_rows": null,
            "grid_gap": null,
            "max_width": null,
            "order": null,
            "_view_module_version": "1.2.0",
            "grid_template_areas": null,
            "object_position": null,
            "object_fit": null,
            "grid_auto_columns": null,
            "margin": null,
            "display": null,
            "left": null
          }
        }
      }
    }
  },
  "cells": [
    {
      "cell_type": "markdown",
      "metadata": {
        "id": "view-in-github",
        "colab_type": "text"
      },
      "source": [
        "<a href=\"https://colab.research.google.com/github/JoDeMiro/InteractiveDemo/blob/main/Jupyter_Notebook_Interactive_Demo_Regression.ipynb\" target=\"_parent\"><img src=\"https://colab.research.google.com/assets/colab-badge.svg\" alt=\"Open In Colab\"/></a>"
      ]
    },
    {
      "cell_type": "markdown",
      "metadata": {
        "id": "A47MRhvy6B3m"
      },
      "source": [
        "## Interactive Machine Learning Demo - Linear Regression"
      ]
    },
    {
      "cell_type": "code",
      "metadata": {
        "id": "eb2-kyVB4f2L"
      },
      "source": [
        "\n",
        "import numpy as np\n",
        "import pandas as pd\n",
        "import matplotlib.pyplot as plt\n",
        "import ipywidgets as widgets\n",
        "\n",
        "from ipywidgets import interact, interactive, fixed, interact_manual, IntSlider, Layout\n",
        "from IPython.display import display\n"
      ],
      "execution_count": 9,
      "outputs": []
    },
    {
      "cell_type": "markdown",
      "metadata": {
        "id": "FMK6Dtez6I89"
      },
      "source": [
        "## Function definitions (ideal fitting function and actual data generating function with noise)"
      ]
    },
    {
      "cell_type": "code",
      "metadata": {
        "id": "s0X1Ey7z4fqQ"
      },
      "source": [
        "\n",
        "N_samples = 25\n",
        "x_min = -5\n",
        "x_max = 5\n",
        "x1 = np.linspace(x_min, x_max, N_samples * 5)\n",
        "x = np.random.choice(x1, size = N_samples)\n",
        "noise_std = 1\n",
        "noise_mean = 0\n",
        "noise_magnitude = 2"
      ],
      "execution_count": 10,
      "outputs": []
    },
    {
      "cell_type": "markdown",
      "metadata": {
        "id": "RMznXnn46as1"
      },
      "source": [
        "## Function definitions (ideal fitting function and actual data generating function with noise)"
      ]
    },
    {
      "cell_type": "code",
      "metadata": {
        "id": "49fq-OPj4oC7"
      },
      "source": [
        "def func_gen(N_samples, x_min, x_max, noise_magnitude, noise_sd, noise_mean):\n",
        "\n",
        "    x1 = np.linspace(x_min, x_max, N_samples * 5)\n",
        "    x  = np.random.choice(x1, size = N_samples)\n",
        "    y  = 2*x - 0.6 * x**2  + 0.2 * x**3  + 18 * np.sin(x)\n",
        "    y1 = 2*x1- 0.6 * x1**2 + 0.2 * x1**3 + 18 * np.sin(x1)\n",
        "    y  = y + noise_magnitude * np.random.normal(loc = noise_mean, scale = noise_sd, size = N_samples)\n",
        "    \n",
        "    plt.figure(figsize=(8,5))\n",
        "    plt.plot(x1, y1, c = 'k', lw =2)\n",
        "    plt.scatter(x, y, edgecolors = 'k', c = 'yellow', s = 60)\n",
        "    plt.grid(True)\n",
        "    plt.show()\n",
        "\n",
        "    return (x,y,x1,y1)"
      ],
      "execution_count": 17,
      "outputs": []
    },
    {
      "cell_type": "markdown",
      "metadata": {
        "id": "6hbQwXC26eNb"
      },
      "source": [
        "## Call the 'interactive' widget with the data generating function, which also plots the data real-time"
      ]
    },
    {
      "cell_type": "code",
      "metadata": {
        "colab": {
          "base_uri": "https://localhost:8080/",
          "height": 512,
          "referenced_widgets": [
            "4a72a1f222d940d7bebbebe21ab0c88c",
            "91b00eb871914e1180aae66184382183",
            "0d7a7f72869c46e9a9e06aaa9e7073fa",
            "cd654e0564fe4a2a95019d7caf0da8ee",
            "c07308214fd94d6d9f56925157972466",
            "0dd6a91d21f7407f8c20a1c5d2fb0c1a",
            "eafdaee241834818b62aa709e3a3f60e",
            "17bfeff0aa404776816e666130538da9",
            "e62b148c24994f94bb9f4d9d37e5dd55",
            "e0d31f0838fa436cb8dc0d265fae68a0",
            "6512552096454dbabd7f63c6644494db",
            "28a08eab254b4f9e95050c7b884cd891",
            "536dabbc50b945ec98e4fc401b44f30e",
            "1361ed204ed04e858e73786450450d6d",
            "c0597ad0f1104f15bd4f4265a92c9c06",
            "3c9e0b4ec0b84455a04304008422592a",
            "e62614e9960b4ffb96778ecab21f1521",
            "6e6ead39143444a28303e4e6ca885ea1",
            "9f474191894d4aa58392e3ad3a1696a3",
            "53826412ae754603b337e6a14ca410ec",
            "ad9b61f83c044144865ab3781306af63",
            "915e9850a4bb456da74354573f6db696"
          ]
        },
        "id": "VtcEqDGd6nlY",
        "outputId": "bb5d89a4-293d-442f-dabe-f67d525d0946"
      },
      "source": [
        "p = interactive(func_gen,\n",
        "                N_samples = {'Low (50 samples)':50,'High (200 samples)':200},\n",
        "                x_min = (-5, 0, 1),\n",
        "                x_max = widgets.IntSlider(value = 4, min = 0, max = 5, step = 1),\n",
        "                noise_magnitude = (0, 5, 1),\n",
        "                noise_sd = (0.1, 1, 0.1),\n",
        "                noise_mean = (-2, 2, 0.5))\n",
        "display(p)"
      ],
      "execution_count": 25,
      "outputs": [
        {
          "output_type": "display_data",
          "data": {
            "application/vnd.jupyter.widget-view+json": {
              "model_id": "4a72a1f222d940d7bebbebe21ab0c88c",
              "version_minor": 0,
              "version_major": 2
            },
            "text/plain": [
              "interactive(children=(Dropdown(description='N_samples', options={'Low (50 samples)': 50, 'High (200 samples)':…"
            ]
          },
          "metadata": {
            "tags": []
          }
        }
      ]
    },
    {
      "cell_type": "markdown",
      "metadata": {
        "id": "8VouzPPe6vGL"
      },
      "source": [
        "## Extract the data"
      ]
    },
    {
      "cell_type": "code",
      "metadata": {
        "id": "pABr6CAV6n91"
      },
      "source": [
        "x,y,x1,y1 = p.result"
      ],
      "execution_count": 26,
      "outputs": []
    },
    {
      "cell_type": "markdown",
      "metadata": {
        "id": "1K7k3KsB60nR"
      },
      "source": [
        "## Load scikit-learn libraries"
      ]
    },
    {
      "cell_type": "code",
      "metadata": {
        "id": "vP65jWCu6z7d"
      },
      "source": [
        "from sklearn.model_selection import train_test_split\n",
        "from sklearn.preprocessing import PolynomialFeatures\n",
        "from sklearn.linear_model import LassoCV\n",
        "from sklearn.linear_model import RidgeCV\n",
        "from sklearn.linear_model import LinearRegression\n",
        "from sklearn.pipeline import make_pipeline"
      ],
      "execution_count": 27,
      "outputs": []
    },
    {
      "cell_type": "markdown",
      "metadata": {
        "id": "93dYaChO66wD"
      },
      "source": [
        "## Machine learning (regression) model encapsulated within a function"
      ]
    },
    {
      "cell_type": "code",
      "metadata": {
        "id": "LXVW701k4n9v"
      },
      "source": [
        "lasso_eps = 0.01\n",
        "lasso_nalpha = 20\n",
        "lasso_iter = 3000\n",
        "ridge_alphas = (0.001, 0.01, 0.1, 1)\n",
        "\n",
        "def func_fit(model_type,test_size,degree):\n",
        "    X_train, X_test, y_train, y_test = train_test_split(x, y, test_size = test_size, random_state = 55)\n",
        "    \n",
        "    if (model_type == 'Linear regression'):\n",
        "        model = make_pipeline(PolynomialFeatures(degree,interaction_only=False), \n",
        "                          LinearRegression(normalize=True))\n",
        "    if (model_type == 'LASSO with CV'):    \n",
        "        model = make_pipeline(PolynomialFeatures(degree,interaction_only=False), \n",
        "                              LassoCV(eps=lasso_eps,n_alphas=lasso_nalpha,max_iter=lasso_iter,normalize=True,cv=5))\n",
        "        \n",
        "    if (model_type == 'Ridge with CV'):    \n",
        "        model = make_pipeline(PolynomialFeatures(degree,interaction_only=False), \n",
        "                              RidgeCV(alphas=ridge_alphas,normalize=True,cv=5))\n",
        "    \n",
        "    X_train = X_train.reshape(-1, 1)\n",
        "    X_test  = X_test.reshape(-1, 1)\n",
        "    \n",
        "    model.fit(X_train, y_train)\n",
        "    \n",
        "    train_pred = np.array(model.predict(X_train))\n",
        "    train_score = model.score(X_train,y_train)\n",
        "    \n",
        "    test_pred = np.array(model.predict(X_test))\n",
        "    test_score = model.score(X_test,y_test)\n",
        "    \n",
        "    RMSE_test=np.sqrt(np.mean(np.square(test_pred-y_test)))\n",
        "    RMSE_train=np.sqrt(np.mean(np.square(train_pred-y_train)))\n",
        "       \n",
        "    plt.figure(figsize=(14,6))\n",
        "    \n",
        "    plt.subplot(1,2,1)\n",
        "    plt.title(\"Test set performance\\nTest score: %.3f\"%(test_score),fontsize=16)\n",
        "    plt.xlabel(\"X-test\",fontsize=13)\n",
        "    plt.ylabel(\"y-test\",fontsize=13)\n",
        "    plt.scatter(X_test,y_test,edgecolors='k',c='blue',s=60)\n",
        "    plt.scatter(X_test,test_pred,edgecolors='k',c='yellow',s=60)\n",
        "    plt.grid(True)\n",
        "    plt.legend(['Actual test values','Predicted values'])\n",
        "    \n",
        "    plt.subplot(1,2,2)\n",
        "    plt.title(\"Training set performance\\nTraining score: %.3f\"%(train_score),fontsize=16)\n",
        "    plt.xlabel(\"X-train\",fontsize=13)\n",
        "    plt.ylabel(\"y-train\",fontsize=13)\n",
        "    plt.scatter(X_train,y_train,c='blue')\n",
        "    plt.scatter(X_train,train_pred,c='yellow')\n",
        "    plt.grid(True)\n",
        "    plt.legend(['Actual training values','Fitted values'])\n",
        "    \n",
        "    plt.show()\n",
        "       \n",
        "    return (train_score,test_score)"
      ],
      "execution_count": 28,
      "outputs": []
    },
    {
      "cell_type": "markdown",
      "metadata": {
        "id": "feDXqP1Q7CoK"
      },
      "source": [
        "## Run the encapsulated ML function with ipywidget interactive"
      ]
    },
    {
      "cell_type": "code",
      "metadata": {
        "colab": {
          "base_uri": "https://localhost:8080/",
          "height": 627,
          "referenced_widgets": [
            "2650f17c67a54abe86b31833844d7fdc",
            "16ee86377e554515962e2955c4b72255",
            "41695ac5f9ff465cbc2bb3df56299379",
            "75ca0df6d77c4edabaf48a5484d9c10e",
            "c01515412061465eb210e9a2e8e364ed",
            "213e6414f1624254b71280a54d53715e",
            "b090df7f45814e819744ba88579f8e79",
            "b70406553d1845799dca0aa7e46f45b1",
            "9d9b88ba48e24b90afa783d56be3cf40",
            "0a25c0610ddf4c07add0c883e1e694c5",
            "79cf3ded622e4766976619833833ccab",
            "1c34193f3b4b4fa982cfc8725ddd58aa",
            "be368df279b94b1ba865c584d04d0d04"
          ]
        },
        "id": "BWFCbA814n45",
        "outputId": "821a7686-8b53-47b2-b06f-e240df52c044"
      },
      "source": [
        "style = {'description_width': 'initial'}\n",
        "# Continuous_update = False for IntSlider control to stop continuous model evaluation while the slider is being dragged\n",
        "m = interactive(func_fit,model_type=widgets.RadioButtons(options=['Linear regression','LASSO with CV', 'Ridge with CV'],\n",
        "                                                    description = \"Choose Model\",style=style,\n",
        "                                                        layout=Layout(width='250px')),\n",
        "                test_size=widgets.Dropdown(options={\"10% of data\":0.1,\"20% of data\":0.2, \"30% of data\":0.3,\n",
        "                                                    \"40% of data\":0.4,\"50% of data\":0.5},\n",
        "                                          description=\"Test set size ($X_{test}$)\",style=style),\n",
        "               degree=widgets.IntSlider(min=1,max=10,step=1,description= 'Polynomial($\\sum\\limits_{i=1}^n a_nx^n$)',\n",
        "                                       style=style,continuous_update=False))\n",
        "\n",
        "# Set the height of the control.children[-1] so that the output does not jump and flicker\n",
        "output = m.children[-1]\n",
        "output.layout.height = '450px'\n",
        "\n",
        "# Display the control\n",
        "display(m)"
      ],
      "execution_count": 29,
      "outputs": [
        {
          "output_type": "display_data",
          "data": {
            "application/vnd.jupyter.widget-view+json": {
              "model_id": "2650f17c67a54abe86b31833844d7fdc",
              "version_minor": 0,
              "version_major": 2
            },
            "text/plain": [
              "interactive(children=(RadioButtons(description='Choose Model', layout=Layout(width='250px'), options=('Linear …"
            ]
          },
          "metadata": {
            "tags": []
          }
        }
      ]
    },
    {
      "cell_type": "code",
      "metadata": {
        "id": "QsdbX4vx79X5"
      },
      "source": [
        ""
      ],
      "execution_count": null,
      "outputs": []
    }
  ]
}